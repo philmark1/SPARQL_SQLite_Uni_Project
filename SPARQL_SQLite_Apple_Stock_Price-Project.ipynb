{
 "cells": [
  {
   "cell_type": "code",
   "execution_count": 1,
   "id": "8420ae5a-60f0-4fb5-b8e5-b74c26a3fe66",
   "metadata": {},
   "outputs": [
    {
     "name": "stdout",
     "output_type": "stream",
     "text": [
      "Collecting sparqlwrapper\n",
      "  Using cached SPARQLWrapper-2.0.0-py3-none-any.whl (28 kB)\n",
      "Collecting rdflib>=6.1.1\n",
      "  Using cached rdflib-6.1.1-py3-none-any.whl (482 kB)\n",
      "Collecting isodate\n",
      "  Using cached isodate-0.6.1-py2.py3-none-any.whl (41 kB)\n",
      "Requirement already satisfied: pyparsing in /opt/conda/lib/python3.9/site-packages (from rdflib>=6.1.1->sparqlwrapper) (2.4.7)\n",
      "Requirement already satisfied: setuptools in /opt/conda/lib/python3.9/site-packages (from rdflib>=6.1.1->sparqlwrapper) (58.2.0)\n",
      "Requirement already satisfied: six in /opt/conda/lib/python3.9/site-packages (from isodate->rdflib>=6.1.1->sparqlwrapper) (1.16.0)\n",
      "Installing collected packages: isodate, rdflib, sparqlwrapper\n",
      "Successfully installed isodate-0.6.1 rdflib-6.1.1 sparqlwrapper-2.0.0\n"
     ]
    }
   ],
   "source": [
    "!pip install sparqlwrapper"
   ]
  },
  {
   "cell_type": "markdown",
   "id": "f8d94ee6-71f6-4bac-90c0-b29c16197600",
   "metadata": {},
   "source": [
    "In this project, we will be combinining quarterly sales data of Apple iPhones with respective Apple stock prices. This should give us a broad overview over the development of the company. I have added comments to the Python code, below to make it easy to understand. Please bear in mind, that the comments were tranlsated from German to English, as this project was submitted at an Austrian university (100% of points achieved). This is also personally my first introduction to Sparql."
   ]
  },
  {
   "cell_type": "code",
   "execution_count": 19,
   "id": "f775b8c0-e457-47af-96ca-bae721da7626",
   "metadata": {},
   "outputs": [],
   "source": [
    "import requests\n",
    "from datetime import datetime\n",
    "# https://data.world/rflprr/iphone-sales\n",
    "# iPhone Verkäufe pro Quartal in Million \n",
    "r = requests.get('https://query.data.world/s/h3netlxe3y2msx7i6io6g7m7pixdvl')\n",
    "f = open('iphone-sales.csv', 'wb')\n",
    "f.write(r.content)\n",
    "f.close()"
   ]
  },
  {
   "cell_type": "code",
   "execution_count": 20,
   "id": "770ce639-6ae6-4e99-acd8-33207f026c90",
   "metadata": {},
   "outputs": [
    {
     "name": "stdout",
     "output_type": "stream",
     "text": [
      "The sql extension is already loaded. To reload it, use:\n",
      "  %reload_ext sql\n"
     ]
    }
   ],
   "source": [
    "%load_ext sql"
   ]
  },
  {
   "cell_type": "code",
   "execution_count": 21,
   "id": "b7778a95-dfb2-40fb-8927-eb88644608f3",
   "metadata": {},
   "outputs": [],
   "source": [
    "%sql sqlite:///iphones.db"
   ]
  },
  {
   "cell_type": "code",
   "execution_count": 22,
   "id": "f4427271-8382-4526-aae3-f96ad08f1fe5",
   "metadata": {},
   "outputs": [
    {
     "name": "stdout",
     "output_type": "stream",
     "text": [
      " * sqlite:///iphones.db\n",
      "Done.\n"
     ]
    },
    {
     "data": {
      "text/plain": [
       "[]"
      ]
     },
     "execution_count": 22,
     "metadata": {},
     "output_type": "execute_result"
    }
   ],
   "source": [
    "%%sql\n",
    "drop table if exists sales;"
   ]
  },
  {
   "cell_type": "code",
   "execution_count": 23,
   "id": "f9cf00b7-855b-48aa-992a-136ff788e20c",
   "metadata": {},
   "outputs": [],
   "source": [
    "import sqlite3\n",
    "import pandas\n",
    "conn = sqlite3.connect('iphones.db')"
   ]
  },
  {
   "cell_type": "code",
   "execution_count": 24,
   "id": "c217c159-45e3-4821-9ccf-e4a430766755",
   "metadata": {
    "tags": []
   },
   "outputs": [],
   "source": [
    "pandas.read_csv('iphone-sales.csv').to_sql('sales', conn, index = False)"
   ]
  },
  {
   "cell_type": "code",
   "execution_count": 25,
   "id": "417b33fb-a31c-4f59-bc38-6e15f70eb5cc",
   "metadata": {},
   "outputs": [
    {
     "name": "stdout",
     "output_type": "stream",
     "text": [
      " * sqlite:///iphones.db\n",
      "Done.\n"
     ]
    },
    {
     "data": {
      "text/html": [
       "<table>\n",
       "    <tr>\n",
       "        <th>Category</th>\n",
       "        <th>iPhone</th>\n",
       "        <th>YOY growth</th>\n",
       "    </tr>\n",
       "    <tr>\n",
       "        <td>Q2/07</td>\n",
       "        <td>0.141</td>\n",
       "        <td>None</td>\n",
       "    </tr>\n",
       "    <tr>\n",
       "        <td>Q3/07</td>\n",
       "        <td>0.489</td>\n",
       "        <td>None</td>\n",
       "    </tr>\n",
       "    <tr>\n",
       "        <td>Q4/07</td>\n",
       "        <td>1.036</td>\n",
       "        <td>None</td>\n",
       "    </tr>\n",
       "    <tr>\n",
       "        <td>Q1/08</td>\n",
       "        <td>0.817</td>\n",
       "        <td>None</td>\n",
       "    </tr>\n",
       "    <tr>\n",
       "        <td>Q2/08</td>\n",
       "        <td>0.483</td>\n",
       "        <td>242.55</td>\n",
       "    </tr>\n",
       "</table>"
      ],
      "text/plain": [
       "[('Q2/07', 0.141, None),\n",
       " ('Q3/07', 0.489, None),\n",
       " ('Q4/07', 1.036, None),\n",
       " ('Q1/08', 0.817, None),\n",
       " ('Q2/08', 0.483, 242.55)]"
      ]
     },
     "execution_count": 25,
     "metadata": {},
     "output_type": "execute_result"
    }
   ],
   "source": [
    "%%sql\n",
    "select * from sales limit 5;"
   ]
  },
  {
   "cell_type": "code",
   "execution_count": 26,
   "id": "24da454d-62d3-4554-bb60-11a71ee7af0c",
   "metadata": {},
   "outputs": [
    {
     "name": "stdout",
     "output_type": "stream",
     "text": [
      " * sqlite:///iphones.db\n",
      "Done.\n"
     ]
    },
    {
     "data": {
      "text/plain": [
       "[]"
      ]
     },
     "execution_count": 26,
     "metadata": {},
     "output_type": "execute_result"
    }
   ],
   "source": [
    "%%sql\n",
    "drop table if exists stock;"
   ]
  },
  {
   "cell_type": "markdown",
   "id": "82dcbda9-272e-473f-8016-a035f303611d",
   "metadata": {},
   "source": [
    "- Category is the respective quarter (1-4) with the respective Year next to it (e.g. 08 = 2008)\n",
    "- \"iPhone\" is a string respenting the number of sold iPhones in Millions iPhone (e.g., 0.141 = 141,000 sold iPhones in the quarter)\n",
    "- YoY Growth can be ignored for our analysis (Year over Year Growth)"
   ]
  },
  {
   "cell_type": "code",
   "execution_count": 27,
   "id": "a6115a6d-f799-440e-9394-74fd5e7c2f4a",
   "metadata": {},
   "outputs": [],
   "source": [
    "# https://www.macrotrends.net/stocks/charts/AAPL/apple/stock-price-history\n",
    "# apple aktienkurs von 1980 bis 2022, täglicher wert\n",
    "r = requests.get('https://www.macrotrends.net/assets/php/stock_data_download.php?s=629725c636b34&t=AAPL')\n",
    "f = open('apple-stock.csv', 'w')\n",
    "x = r.text.find('date,open')\n",
    "length = len(r.text)\n",
    "f.write(r.text[x:(length-1)])\n",
    "f.close()\n",
    "# "
   ]
  },
  {
   "cell_type": "code",
   "execution_count": 28,
   "id": "5086e889-e6e5-4495-9c4b-56192e9946d1",
   "metadata": {},
   "outputs": [],
   "source": [
    "pandas.read_csv('apple-stock.csv').to_sql('stock', conn, index = False)"
   ]
  },
  {
   "cell_type": "markdown",
   "id": "d79911cf-d3bd-4ad4-80a6-fb7ae9ea0d21",
   "metadata": {},
   "source": [
    "- Date is the tag of the price. \n",
    "- Open is the opening price of Apple's stock (on the New York Stock Exchange), i.e. the first trade of the day. \n",
    "- High ist the highest trading valye during the day. \n",
    "- Low ist the lowest trading value during the day.\n",
    "- Closing ist the last trade of the day. "
   ]
  },
  {
   "cell_type": "code",
   "execution_count": 29,
   "id": "3f2bf7b4-eceb-480a-88c1-720ca2736669",
   "metadata": {},
   "outputs": [
    {
     "name": "stdout",
     "output_type": "stream",
     "text": [
      " * sqlite:///iphones.db\n",
      "Done.\n"
     ]
    },
    {
     "data": {
      "text/html": [
       "<table>\n",
       "    <tr>\n",
       "        <th>date</th>\n",
       "        <th>open</th>\n",
       "        <th>high</th>\n",
       "        <th>low</th>\n",
       "        <th>close</th>\n",
       "        <th>volume</th>\n",
       "    </tr>\n",
       "    <tr>\n",
       "        <td>1980-12-12</td>\n",
       "        <td>0.1004</td>\n",
       "        <td>0.1008</td>\n",
       "        <td>0.1004</td>\n",
       "        <td>0.1004</td>\n",
       "        <td>469033600</td>\n",
       "    </tr>\n",
       "    <tr>\n",
       "        <td>1980-12-15</td>\n",
       "        <td>0.0956</td>\n",
       "        <td>0.0956</td>\n",
       "        <td>0.0952</td>\n",
       "        <td>0.0952</td>\n",
       "        <td>175884800</td>\n",
       "    </tr>\n",
       "    <tr>\n",
       "        <td>1980-12-16</td>\n",
       "        <td>0.0886</td>\n",
       "        <td>0.0886</td>\n",
       "        <td>0.0882</td>\n",
       "        <td>0.0882</td>\n",
       "        <td>105728000</td>\n",
       "    </tr>\n",
       "    <tr>\n",
       "        <td>1980-12-17</td>\n",
       "        <td>0.0904</td>\n",
       "        <td>0.0908</td>\n",
       "        <td>0.0904</td>\n",
       "        <td>0.0904</td>\n",
       "        <td>86441600</td>\n",
       "    </tr>\n",
       "    <tr>\n",
       "        <td>1980-12-18</td>\n",
       "        <td>0.093</td>\n",
       "        <td>0.0934</td>\n",
       "        <td>0.093</td>\n",
       "        <td>0.093</td>\n",
       "        <td>73449600</td>\n",
       "    </tr>\n",
       "</table>"
      ],
      "text/plain": [
       "[('1980-12-12', 0.1004, 0.1008, 0.1004, 0.1004, 469033600),\n",
       " ('1980-12-15', 0.0956, 0.0956, 0.0952, 0.0952, 175884800),\n",
       " ('1980-12-16', 0.0886, 0.0886, 0.0882, 0.0882, 105728000),\n",
       " ('1980-12-17', 0.0904, 0.0908, 0.0904, 0.0904, 86441600),\n",
       " ('1980-12-18', 0.093, 0.0934, 0.093, 0.093, 73449600)]"
      ]
     },
     "execution_count": 29,
     "metadata": {},
     "output_type": "execute_result"
    }
   ],
   "source": [
    "%%sql\n",
    "select * from stock limit 5;"
   ]
  },
  {
   "cell_type": "code",
   "execution_count": 30,
   "id": "36c3c8ba-dd71-481c-817b-de7277c23e3a",
   "metadata": {},
   "outputs": [
    {
     "name": "stdout",
     "output_type": "stream",
     "text": [
      " * sqlite:///iphones.db\n",
      "Done.\n"
     ]
    },
    {
     "data": {
      "text/plain": [
       "[]"
      ]
     },
     "execution_count": 30,
     "metadata": {},
     "output_type": "execute_result"
    }
   ],
   "source": [
    "%%sql\n",
    "drop table if exists dates;"
   ]
  },
  {
   "cell_type": "code",
   "execution_count": 31,
   "id": "e4f8bc8c-f862-4691-830a-3388f6211600",
   "metadata": {},
   "outputs": [],
   "source": [
    "import math\n",
    "quartal_to_first_of_month = []\n",
    "z = 0\n",
    "\n",
    "\n",
    "\n",
    "while(z <= 36):\n",
    "    # the first quarter in the dataset is 02, we start with (z + 1)\n",
    "    # (z+1)%4 gives us a number between 0-3, quarters range from 1-4; therefore +1 \n",
    "    q = (z+1)%4 + 1\n",
    "    # we need for for each 4 consecutive quarters, always the same year, starting with 2007 \n",
    "    year = math.trunc((z+1)/4)+7\n",
    "    yearS = str(year)\n",
    "    # year is always in double-digits in the dataset, if we have the year 7,8 or 9, we need an extra 0\n",
    "    if(year < 10):\n",
    "        yearS = '0' + str(yearS)\n",
    "    # we calculate the quarter after the current quarter\n",
    "    qAfter = (z+1)%4 + 1\n",
    "    # calculation for the jahr of z+1\n",
    "    yearAfter = math.trunc((z+2)/4)+7\n",
    "    # calculation of the first month, after the current quarter \n",
    "    monthAfter = (qAfter * 3) % 12 + 1\n",
    "    monthAfterS = str(monthAfter)\n",
    "    yearAfterS = '20' + str(yearAfter)\n",
    "    # if the month is not double-digits (one-digit), convert to doubel digits \n",
    "    if(monthAfter < 10):\n",
    "        monthAfterS = '0' + str(monthAfter)\n",
    "    # if the year is 7,8 or 9, attach an extra 0\n",
    "    if(yearAfter < 10):\n",
    "        yearAfterS = '200' + str(yearAfter)\n",
    "    # increment z \n",
    "    z += 1\n",
    "    # append the entry in the list \n",
    "    quartal_to_first_of_month.append(['Q' + str(q) + '/' + yearS, str(yearAfterS) + '-' + str(monthAfterS) + '-01'])\n",
    "\n",
    "# convert the list to a dataframe, so that, to_sql can be used to create a table with this list \n",
    "pandas.DataFrame(quartal_to_first_of_month, columns=['quartal', 'dayAfterQuartal']).to_sql('dates', conn, index = False)"
   ]
  },
  {
   "cell_type": "markdown",
   "id": "9e562d18-538e-4db1-b5ab-c672ca11c1e2",
   "metadata": {},
   "source": [
    "\n",
    "Here a two-dimensional array is created where the quarters are in the first column the quarters are entered and in the second column, the first day after the quarter is entered\n",
    "\n",
    "This table is required to create an association between the two tables"
   ]
  },
  {
   "cell_type": "code",
   "execution_count": 32,
   "id": "74853a52-77ec-49b6-9f85-9ef304f96c6b",
   "metadata": {},
   "outputs": [
    {
     "name": "stdout",
     "output_type": "stream",
     "text": [
      " * sqlite:///iphones.db\n",
      "Done.\n"
     ]
    },
    {
     "data": {
      "text/html": [
       "<table>\n",
       "    <tr>\n",
       "        <th>date</th>\n",
       "        <th>open</th>\n",
       "        <th>close</th>\n",
       "        <th>sa.iPhone * (1000000)</th>\n",
       "    </tr>\n",
       "    <tr>\n",
       "        <td>2007-10-01</td>\n",
       "        <td>4.7213</td>\n",
       "        <td>4.7735</td>\n",
       "        <td>489000.0</td>\n",
       "    </tr>\n",
       "    <tr>\n",
       "        <td>2008-04-01</td>\n",
       "        <td>4.467</td>\n",
       "        <td>4.5656</td>\n",
       "        <td>817000.0</td>\n",
       "    </tr>\n",
       "    <tr>\n",
       "        <td>2008-07-01</td>\n",
       "        <td>5.0089</td>\n",
       "        <td>5.3335</td>\n",
       "        <td>483000.0</td>\n",
       "    </tr>\n",
       "    <tr>\n",
       "        <td>2008-10-01</td>\n",
       "        <td>3.4172</td>\n",
       "        <td>3.3317</td>\n",
       "        <td>4406000.0</td>\n",
       "    </tr>\n",
       "    <tr>\n",
       "        <td>2009-04-01</td>\n",
       "        <td>3.1782</td>\n",
       "        <td>3.3186</td>\n",
       "        <td>2427000.0</td>\n",
       "    </tr>\n",
       "</table>"
      ],
      "text/plain": [
       "[('2007-10-01', 4.7213, 4.7735, 489000.0),\n",
       " ('2008-04-01', 4.467, 4.5656, 817000.0),\n",
       " ('2008-07-01', 5.0089, 5.3335, 483000.0),\n",
       " ('2008-10-01', 3.4172, 3.3317, 4406000.0),\n",
       " ('2009-04-01', 3.1782, 3.3186, 2427000.0)]"
      ]
     },
     "execution_count": 32,
     "metadata": {},
     "output_type": "execute_result"
    }
   ],
   "source": [
    "%%sql\n",
    "select s.date, s.open, s.close, sa.iPhone * (1000000) from dates d join stock s on d.dayAfterQuartal = s.date join sales sa on d.quartal = sa.category limit 5"
   ]
  },
  {
   "cell_type": "code",
   "execution_count": 33,
   "id": "ba2dd46e-d1c2-4a1a-b046-9f4f384052ab",
   "metadata": {},
   "outputs": [
    {
     "name": "stdout",
     "output_type": "stream",
     "text": [
      " * sqlite:///iphones.db\n",
      "Done.\n"
     ]
    },
    {
     "data": {
      "text/plain": [
       "[]"
      ]
     },
     "execution_count": 33,
     "metadata": {},
     "output_type": "execute_result"
    }
   ],
   "source": [
    "%%sql\n",
    "drop table if exists iphoneReleases;"
   ]
  },
  {
   "cell_type": "code",
   "execution_count": 34,
   "id": "18b6e695-3d24-4db3-a6c4-fb2c0c4cfe59",
   "metadata": {},
   "outputs": [],
   "source": [
    "from SPARQLWrapper import SPARQLWrapper, JSON, CSV\n"
   ]
  },
  {
   "cell_type": "code",
   "execution_count": 35,
   "id": "b58facda-f5ba-4f2a-98b5-4a733c6cc2d9",
   "metadata": {},
   "outputs": [],
   "source": [
    "endpoint_url = \"https://query.wikidata.org/sparql\"\n",
    "sparql = SPARQLWrapper(endpoint_url)"
   ]
  },
  {
   "cell_type": "code",
   "execution_count": 36,
   "id": "34b55e5a-c555-4e48-8fe5-80ec46e6e3d2",
   "metadata": {},
   "outputs": [],
   "source": [
    "query = \"\"\"SELECT DISTINCT ?item ?label ?releaseDate WHERE {\n",
    "  ?item p:P279 ?statement0.\n",
    "  ?statement0 (ps:P279/(wdt:P279*)) wd:Q2766.\n",
    "  ?item wdt:P571 ?releaseDate.\n",
    "  SERVICE wikibase:label { bd:serviceParam wikibase:language \"en\".\n",
    "          ?item rdfs:label         ?label.\n",
    "      }\n",
    "}\n",
    "order by ?releaseDate\"\"\"\n",
    "\n",
    "sparql.setQuery(query)"
   ]
  },
  {
   "cell_type": "code",
   "execution_count": 37,
   "id": "57572314-a3bc-42dd-b46e-043b9e3ab4be",
   "metadata": {},
   "outputs": [],
   "source": [
    "sparql.setReturnFormat(JSON)"
   ]
  },
  {
   "cell_type": "code",
   "execution_count": 38,
   "id": "33f36cf4-5514-4a4f-9dc8-07fb385b201e",
   "metadata": {},
   "outputs": [],
   "source": [
    "iphones = sparql.query().convert()"
   ]
  },
  {
   "cell_type": "code",
   "execution_count": 39,
   "id": "11460373-b1e5-4c1f-8860-98c8e67199a9",
   "metadata": {},
   "outputs": [],
   "source": [
    "iphoneReleases = []\n",
    "for res in iphones[\"results\"][\"bindings\"]:\n",
    "    row = []\n",
    "    row.append(res[\"label\"][\"value\"])\n",
    "    row.append(res[\"releaseDate\"][\"value\"].split(\"T\")[0])\n",
    "    iphoneReleases.append(row)\n",
    "\n",
    "iphoneReleases    \n",
    "    \n",
    "pandas.DataFrame(iphoneReleases, columns=['name', 'releaseDate']).to_sql('iphoneReleases', conn, index = False)"
   ]
  },
  {
   "cell_type": "code",
   "execution_count": 40,
   "id": "b839c66d-4da7-445c-882d-35b453ed9eef",
   "metadata": {},
   "outputs": [
    {
     "name": "stdout",
     "output_type": "stream",
     "text": [
      " * sqlite:///iphones.db\n",
      "Done.\n"
     ]
    },
    {
     "data": {
      "text/html": [
       "<table>\n",
       "    <tr>\n",
       "        <th>date</th>\n",
       "        <th>open</th>\n",
       "        <th>close</th>\n",
       "        <th>IPhone Sales</th>\n",
       "        <th>Newest Iphone</th>\n",
       "    </tr>\n",
       "    <tr>\n",
       "        <td>2007-10-01</td>\n",
       "        <td>4.7213</td>\n",
       "        <td>4.7735</td>\n",
       "        <td>489000.0</td>\n",
       "        <td>iPhone</td>\n",
       "    </tr>\n",
       "    <tr>\n",
       "        <td>2008-04-01</td>\n",
       "        <td>4.467</td>\n",
       "        <td>4.5656</td>\n",
       "        <td>817000.0</td>\n",
       "        <td>iPhone</td>\n",
       "    </tr>\n",
       "    <tr>\n",
       "        <td>2008-07-01</td>\n",
       "        <td>5.0089</td>\n",
       "        <td>5.3335</td>\n",
       "        <td>483000.0</td>\n",
       "        <td>iPhone 3G</td>\n",
       "    </tr>\n",
       "    <tr>\n",
       "        <td>2008-10-01</td>\n",
       "        <td>3.4172</td>\n",
       "        <td>3.3317</td>\n",
       "        <td>4406000.0</td>\n",
       "        <td>iPhone 3G</td>\n",
       "    </tr>\n",
       "    <tr>\n",
       "        <td>2009-04-01</td>\n",
       "        <td>3.1782</td>\n",
       "        <td>3.3186</td>\n",
       "        <td>2427000.0</td>\n",
       "        <td>iPhone 3G</td>\n",
       "    </tr>\n",
       "    <tr>\n",
       "        <td>2009-07-01</td>\n",
       "        <td>4.3815</td>\n",
       "        <td>4.361</td>\n",
       "        <td>3060000.0</td>\n",
       "        <td>iPhone 3GS</td>\n",
       "    </tr>\n",
       "    <tr>\n",
       "        <td>2009-10-01</td>\n",
       "        <td>5.6593</td>\n",
       "        <td>5.5222</td>\n",
       "        <td>4606000.0</td>\n",
       "        <td>iPhone 3GS</td>\n",
       "    </tr>\n",
       "    <tr>\n",
       "        <td>2010-04-01</td>\n",
       "        <td>7.2512</td>\n",
       "        <td>7.2048</td>\n",
       "        <td>5445000.0</td>\n",
       "        <td>iPhone 3GS</td>\n",
       "    </tr>\n",
       "    <tr>\n",
       "        <td>2010-07-01</td>\n",
       "        <td>7.7645</td>\n",
       "        <td>7.5868</td>\n",
       "        <td>5334000.0</td>\n",
       "        <td>iPhone 4</td>\n",
       "    </tr>\n",
       "    <tr>\n",
       "        <td>2010-10-01</td>\n",
       "        <td>8.6637</td>\n",
       "        <td>8.6261</td>\n",
       "        <td>8822000.0</td>\n",
       "        <td>iPhone 4</td>\n",
       "    </tr>\n",
       "    <tr>\n",
       "        <td>2011-04-01</td>\n",
       "        <td>10.7204</td>\n",
       "        <td>10.5204</td>\n",
       "        <td>12053000.0</td>\n",
       "        <td>iPhone 4</td>\n",
       "    </tr>\n",
       "    <tr>\n",
       "        <td>2011-07-01</td>\n",
       "        <td>10.2575</td>\n",
       "        <td>10.4807</td>\n",
       "        <td>13102000.0</td>\n",
       "        <td>iPhone 4</td>\n",
       "    </tr>\n",
       "    <tr>\n",
       "        <td>2012-10-01</td>\n",
       "        <td>20.5903</td>\n",
       "        <td>20.219</td>\n",
       "        <td>16645000.0</td>\n",
       "        <td>iPhone 5</td>\n",
       "    </tr>\n",
       "    <tr>\n",
       "        <td>2013-04-01</td>\n",
       "        <td>13.6915</td>\n",
       "        <td>13.289</td>\n",
       "        <td>22955000.0</td>\n",
       "        <td>iPhone 5</td>\n",
       "    </tr>\n",
       "    <tr>\n",
       "        <td>2013-07-01</td>\n",
       "        <td>12.5599</td>\n",
       "        <td>12.7636</td>\n",
       "        <td>18154000.0</td>\n",
       "        <td>iPhone 5</td>\n",
       "    </tr>\n",
       "    <tr>\n",
       "        <td>2013-10-01</td>\n",
       "        <td>15.0216</td>\n",
       "        <td>15.3202</td>\n",
       "        <td>19510000.0</td>\n",
       "        <td>iPhone 5S</td>\n",
       "    </tr>\n",
       "    <tr>\n",
       "        <td>2014-04-01</td>\n",
       "        <td>17.0836</td>\n",
       "        <td>17.2072</td>\n",
       "        <td>26064000.0</td>\n",
       "        <td>iPhone 5S</td>\n",
       "    </tr>\n",
       "    <tr>\n",
       "        <td>2014-07-01</td>\n",
       "        <td>20.9131</td>\n",
       "        <td>20.9131</td>\n",
       "        <td>19751000.0</td>\n",
       "        <td>iPhone 5S</td>\n",
       "    </tr>\n",
       "    <tr>\n",
       "        <td>2014-10-01</td>\n",
       "        <td>22.606</td>\n",
       "        <td>22.2891</td>\n",
       "        <td>23678000.0</td>\n",
       "        <td>iPhone 6</td>\n",
       "    </tr>\n",
       "    <tr>\n",
       "        <td>2015-04-01</td>\n",
       "        <td>28.283</td>\n",
       "        <td>28.1538</td>\n",
       "        <td>40282000.0</td>\n",
       "        <td>iPhone 6</td>\n",
       "    </tr>\n",
       "    <tr>\n",
       "        <td>2015-07-01</td>\n",
       "        <td>28.8736</td>\n",
       "        <td>28.8054</td>\n",
       "        <td>31368000.0</td>\n",
       "        <td>iPhone 6</td>\n",
       "    </tr>\n",
       "    <tr>\n",
       "        <td>2015-10-01</td>\n",
       "        <td>24.9288</td>\n",
       "        <td>25.0454</td>\n",
       "        <td>32209000.000000004</td>\n",
       "        <td>iPhone 6S</td>\n",
       "    </tr>\n",
       "    <tr>\n",
       "        <td>2016-04-01</td>\n",
       "        <td>25.1039</td>\n",
       "        <td>25.3831</td>\n",
       "        <td>32857000.0</td>\n",
       "        <td>iPhone 6S</td>\n",
       "    </tr>\n",
       "    <tr>\n",
       "        <td>2016-07-01</td>\n",
       "        <td>22.1716</td>\n",
       "        <td>22.2645</td>\n",
       "        <td>24048000.0</td>\n",
       "        <td>iPhone 6S</td>\n",
       "    </tr>\n",
       "</table>"
      ],
      "text/plain": [
       "[('2007-10-01', 4.7213, 4.7735, 489000.0, 'iPhone'),\n",
       " ('2008-04-01', 4.467, 4.5656, 817000.0, 'iPhone'),\n",
       " ('2008-07-01', 5.0089, 5.3335, 483000.0, 'iPhone 3G'),\n",
       " ('2008-10-01', 3.4172, 3.3317, 4406000.0, 'iPhone 3G'),\n",
       " ('2009-04-01', 3.1782, 3.3186, 2427000.0, 'iPhone 3G'),\n",
       " ('2009-07-01', 4.3815, 4.361, 3060000.0, 'iPhone 3GS'),\n",
       " ('2009-10-01', 5.6593, 5.5222, 4606000.0, 'iPhone 3GS'),\n",
       " ('2010-04-01', 7.2512, 7.2048, 5445000.0, 'iPhone 3GS'),\n",
       " ('2010-07-01', 7.7645, 7.5868, 5334000.0, 'iPhone 4'),\n",
       " ('2010-10-01', 8.6637, 8.6261, 8822000.0, 'iPhone 4'),\n",
       " ('2011-04-01', 10.7204, 10.5204, 12053000.0, 'iPhone 4'),\n",
       " ('2011-07-01', 10.2575, 10.4807, 13102000.0, 'iPhone 4'),\n",
       " ('2012-10-01', 20.5903, 20.219, 16645000.0, 'iPhone 5'),\n",
       " ('2013-04-01', 13.6915, 13.289, 22955000.0, 'iPhone 5'),\n",
       " ('2013-07-01', 12.5599, 12.7636, 18154000.0, 'iPhone 5'),\n",
       " ('2013-10-01', 15.0216, 15.3202, 19510000.0, 'iPhone 5S'),\n",
       " ('2014-04-01', 17.0836, 17.2072, 26064000.0, 'iPhone 5S'),\n",
       " ('2014-07-01', 20.9131, 20.9131, 19751000.0, 'iPhone 5S'),\n",
       " ('2014-10-01', 22.606, 22.2891, 23678000.0, 'iPhone 6'),\n",
       " ('2015-04-01', 28.283, 28.1538, 40282000.0, 'iPhone 6'),\n",
       " ('2015-07-01', 28.8736, 28.8054, 31368000.0, 'iPhone 6'),\n",
       " ('2015-10-01', 24.9288, 25.0454, 32209000.000000004, 'iPhone 6S'),\n",
       " ('2016-04-01', 25.1039, 25.3831, 32857000.0, 'iPhone 6S'),\n",
       " ('2016-07-01', 22.1716, 22.2645, 24048000.0, 'iPhone 6S')]"
      ]
     },
     "execution_count": 40,
     "metadata": {},
     "output_type": "execute_result"
    }
   ],
   "source": [
    "%%sql\n",
    "select s.date, s.open, s.close, sa.iPhone * (1000000) \"IPhone Sales\", (select name from iphoneReleases where releaseDate < s.date order by releaseDate desc) \"Newest Iphone\"\n",
    "  from dates d\n",
    "  join stock s on d.dayAfterQuartal = s.date \n",
    "  join sales sa on d.quartal = sa.category"
   ]
  },
  {
   "cell_type": "markdown",
   "id": "733a7c4a-c569-4bc1-8a8a-5f4f0ae2072a",
   "metadata": {},
   "source": [
    "In this table, I have now combined the share price (closing and open of the trading day) on the date of the respective quarter with the sales of iPhones in that quarter. \n",
    "Furthermore, the latest iPhone model is displayed in the last column. This indicates the general trend that Apple's stock price has risen as iPhone sales have increased."
   ]
  },
  {
   "cell_type": "code",
   "execution_count": null,
   "id": "506d7931-cd88-45da-920b-1f954ecfbe0c",
   "metadata": {},
   "outputs": [],
   "source": []
  }
 ],
 "metadata": {
  "kernelspec": {
   "display_name": "Python 3 (ipykernel)",
   "language": "python",
   "name": "python3"
  },
  "language_info": {
   "codemirror_mode": {
    "name": "ipython",
    "version": 3
   },
   "file_extension": ".py",
   "mimetype": "text/x-python",
   "name": "python",
   "nbconvert_exporter": "python",
   "pygments_lexer": "ipython3",
   "version": "3.9.7"
  }
 },
 "nbformat": 4,
 "nbformat_minor": 5
}
